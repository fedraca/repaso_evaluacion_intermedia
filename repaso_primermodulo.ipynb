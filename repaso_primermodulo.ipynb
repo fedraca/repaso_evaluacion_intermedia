{
 "cells": [
  {
   "cell_type": "code",
   "execution_count": null,
   "metadata": {},
   "outputs": [],
   "source": []
  },
  {
   "cell_type": "markdown",
   "metadata": {},
   "source": [
    "-EJERCICIOS DE REPASO "
   ]
  },
  {
   "cell_type": "markdown",
   "metadata": {},
   "source": [
    "#1- CREA UNA LISTA CON CINCO COLORES DIFERENTES"
   ]
  },
  {
   "cell_type": "code",
   "execution_count": 1,
   "metadata": {},
   "outputs": [
    {
     "name": "stdout",
     "output_type": "stream",
     "text": [
      "['amarillo', 'blanco', 'negro', 'verde', 'azul']\n"
     ]
    }
   ],
   "source": [
    "lista_colores = [\"amarillo\",\"blanco\",\"negro\",\"verde\",\"azul\"]\n",
    "\n",
    "print(lista_colores)"
   ]
  },
  {
   "cell_type": "markdown",
   "metadata": {},
   "source": [
    "# 2. ACCEDER A ELEMENTOS: ACCEDE AL TERCER ELEMENTO DE LA LISTA DE COLORES"
   ]
  },
  {
   "cell_type": "code",
   "execution_count": 2,
   "metadata": {},
   "outputs": [
    {
     "data": {
      "text/plain": [
       "'negro'"
      ]
     },
     "execution_count": 2,
     "metadata": {},
     "output_type": "execute_result"
    }
   ],
   "source": [
    "lista_colores[2]\n",
    "\n"
   ]
  },
  {
   "cell_type": "markdown",
   "metadata": {},
   "source": [
    "# 3. MODIFICAR ELEMENTOS: CAMBIA EL SEGUNDO COLOR DE LA LISTA POR OTRO DE TU ELECCION"
   ]
  },
  {
   "cell_type": "code",
   "execution_count": 3,
   "metadata": {},
   "outputs": [
    {
     "name": "stdout",
     "output_type": "stream",
     "text": [
      "['amarillo', 'blanco', 'negro', 'verde', 'azul']\n",
      "['amarillo', 'naranaja', 'negro', 'verde', 'azul']\n"
     ]
    }
   ],
   "source": [
    "print(lista_colores)\n",
    "lista_colores.pop(1)\n",
    "\n",
    "lista_colores.insert(1,\"naranaja\")\n",
    "print(lista_colores)"
   ]
  },
  {
   "cell_type": "markdown",
   "metadata": {},
   "source": [
    "#4. AGREGAR ELEMENTOS: AGREGA DOS COLORES NUEVOS A LA LISTA \n"
   ]
  },
  {
   "cell_type": "code",
   "execution_count": 4,
   "metadata": {},
   "outputs": [
    {
     "name": "stdout",
     "output_type": "stream",
     "text": [
      "['amarillo', 'naranaja', 'negro', 'verde', 'azul', 'morado', 'cafe']\n"
     ]
    }
   ],
   "source": [
    "nuevos_colores = [\"morado\",\"cafe\"]\n",
    "\n",
    "lista_colores.extend(nuevos_colores)\n",
    "print(lista_colores)\n"
   ]
  },
  {
   "cell_type": "markdown",
   "metadata": {},
   "source": [
    "#5. ELIMINAR ELEMENTOS: ELIMINA EL CUARTO COLOR DE LA LISTA"
   ]
  },
  {
   "cell_type": "code",
   "execution_count": 75,
   "metadata": {},
   "outputs": [
    {
     "name": "stdout",
     "output_type": "stream",
     "text": [
      "['amarillo', 'azul', 'cafe', 'morado', 'naranaja', 'negro', 'verde']\n",
      "['amarillo', 'azul', 'cafe', 'naranaja', 'negro', 'verde']\n"
     ]
    }
   ],
   "source": [
    "print(lista_colores)\n",
    "\n",
    "lista_colores.pop(3)\n",
    "print(lista_colores)"
   ]
  },
  {
   "cell_type": "markdown",
   "metadata": {},
   "source": [
    "# 6. LONGUITUD DE LA LISTA: ENCUENTRA LA LONGITUD DE LA LISTA "
   ]
  },
  {
   "cell_type": "code",
   "execution_count": 76,
   "metadata": {},
   "outputs": [
    {
     "name": "stdout",
     "output_type": "stream",
     "text": [
      "['amarillo', 'azul', 'cafe', 'naranaja', 'negro', 'verde']\n"
     ]
    },
    {
     "data": {
      "text/plain": [
       "6"
      ]
     },
     "execution_count": 76,
     "metadata": {},
     "output_type": "execute_result"
    }
   ],
   "source": [
    "print(lista_colores)\n",
    "\n",
    "len(lista_colores)"
   ]
  },
  {
   "cell_type": "markdown",
   "metadata": {},
   "source": [
    "#7. ORDENA LA LISTA: ORDENA LA LISTA DE COLORES EN ORDEN ALFABETICO"
   ]
  },
  {
   "cell_type": "code",
   "execution_count": 77,
   "metadata": {},
   "outputs": [
    {
     "name": "stdout",
     "output_type": "stream",
     "text": [
      "['amarillo', 'azul', 'cafe', 'naranaja', 'negro', 'verde']\n"
     ]
    }
   ],
   "source": [
    "lista_colores.sort()\n",
    "print(lista_colores)"
   ]
  },
  {
   "cell_type": "markdown",
   "metadata": {},
   "source": [
    "#9. CONCATENAR LISTAS: CONCATENA LAS DOS SUBLISTAS EN UNA SOLA LISTA DE FRUTAS \n"
   ]
  },
  {
   "cell_type": "code",
   "execution_count": 11,
   "metadata": {},
   "outputs": [
    {
     "name": "stdout",
     "output_type": "stream",
     "text": [
      "['mango', 'limon', 'kiwi', 'mandarina', 'higo', 'uvas']\n"
     ]
    }
   ],
   "source": [
    "frutas_ver = [\"mango\",\"limon\",\"kiwi\"]\n",
    "frutas_inv = [\"mandarina\",\"higo\",\"uvas\"]\n",
    "\n",
    "frutas = frutas_ver + frutas_inv\n",
    "print(frutas)\n"
   ]
  },
  {
   "cell_type": "markdown",
   "metadata": {},
   "source": [
    "#8 LISTAS ANIDADAS: CREA UNA LISTA DE DOS DUBLISTAS EN UNA SOLA LISTA DE FRUTAS "
   ]
  },
  {
   "cell_type": "code",
   "execution_count": 37,
   "metadata": {},
   "outputs": [
    {
     "name": "stdout",
     "output_type": "stream",
     "text": [
      "[['platano', 'sandia', 'naranja', 'melon'], ['maracuya', 'tojonja']]\n"
     ]
    }
   ],
   "source": [
    "frutas_fav = [\"platano\",\"sandia\",\"naranja\",\"melon\"]\n",
    "frutas_fav2 = [\"maracuya\",\"tojonja\"]\n",
    "\n",
    "frutas_favoritas= [frutas_fav,frutas_fav2]\n",
    "print(frutas_favoritas)\n"
   ]
  },
  {
   "cell_type": "markdown",
   "metadata": {},
   "source": [
    "#10. REPETIR ELEMENTOS: REPITE LA LISTA DE FRUTAS TRES VECES PARA OBTENER UNA LISTA MAS LARGA"
   ]
  },
  {
   "cell_type": "code",
   "execution_count": 39,
   "metadata": {},
   "outputs": [
    {
     "name": "stdout",
     "output_type": "stream",
     "text": [
      "['mango', 'limon', 'kiwi', 'mandarina', 'higo', 'uvas', 'mango', 'limon', 'kiwi', 'mandarina', 'higo', 'uvas', 'mango', 'limon', 'kiwi', 'mandarina', 'higo', 'uvas']\n"
     ]
    }
   ],
   "source": [
    "print(frutas*3)\n"
   ]
  },
  {
   "cell_type": "markdown",
   "metadata": {},
   "source": [
    "#11. ACCEDER A LA PRIMERA LISTA DE FRUTAS: CREA UNA VARIABLE LLAMADA PRIMERA LISTA Y ASIGNA LA PRIMERA LISTA DE FRUTAS A ESTA VARIABLE."
   ]
  },
  {
   "cell_type": "code",
   "execution_count": 180,
   "metadata": {},
   "outputs": [
    {
     "name": "stdout",
     "output_type": "stream",
     "text": [
      "[['platano', 'sandia', 'naranja', 'melon'], ['maracuya', 'tojonja']]\n",
      "['platano', 'sandia', 'naranja', 'melon']\n"
     ]
    }
   ],
   "source": [
    "print(frutas_favoritas)\n",
    "\n",
    "primera_lista = frutas_favoritas[0]\n",
    "print(primera_lista)\n"
   ]
  },
  {
   "cell_type": "markdown",
   "metadata": {},
   "source": [
    "#12. ACCEDER A LA SEGUNDA LISTA DE FRUTAS: CREA UNA VARIABLE  LLAMADA SEGUNDA_LISTA Y ASIGNA LA SEGUNDA LISTA DE FRUTAS A ESTA VARIABLE"
   ]
  },
  {
   "cell_type": "code",
   "execution_count": 181,
   "metadata": {},
   "outputs": [
    {
     "name": "stdout",
     "output_type": "stream",
     "text": [
      "[['platano', 'sandia', 'naranja', 'melon'], ['maracuya', 'tojonja']]\n",
      "['maracuya', 'tojonja']\n"
     ]
    }
   ],
   "source": [
    "print(frutas_favoritas)\n",
    "\n",
    "segunda_lista = frutas_favoritas[1]\n",
    "print(segunda_lista)\n"
   ]
  },
  {
   "cell_type": "markdown",
   "metadata": {},
   "source": [
    "#13. ACCEDER A LA PRIMERA FRUTA DE LA PRIMERA LISTA: CREA UNA VARIABLE LLAMADA ULTIMA_FRUTA Y ASIGNA LA PRIMERA FRUTA DE LA PRIMERA LISTA DE FRUTAS A ESTA VARIABLE"
   ]
  },
  {
   "cell_type": "code",
   "execution_count": 182,
   "metadata": {},
   "outputs": [
    {
     "name": "stdout",
     "output_type": "stream",
     "text": [
      "maracuya\n"
     ]
    }
   ],
   "source": [
    "ultima_fruta = segunda_lista[0]\n",
    "print(ultima_fruta)"
   ]
  },
  {
   "cell_type": "markdown",
   "metadata": {},
   "source": []
  },
  {
   "cell_type": "markdown",
   "metadata": {},
   "source": [
    "# TUPLAS"
   ]
  },
  {
   "cell_type": "markdown",
   "metadata": {},
   "source": [
    "# 1- CREA UNA TUPLA\n",
    "# 2- ACCEDER AL PRIMER ELEMENTO: ACCECER AL PRIMER ELEMENTO DE MI TUPLE Y GUARDARLO EN UNA VARIABLE LLAMADA PRIMER_ELEMENTO\n",
    "# 3- ACCEDER AL ULTIMA ELEMENTO:  ACCERDER AL PULTIMA ELEMENTO Y GUARDARLO EN UNA VARIABLE LLAMDA ULTIMO_ELEMENTO\n"
   ]
  },
  {
   "cell_type": "code",
   "execution_count": 60,
   "metadata": {},
   "outputs": [
    {
     "name": "stdout",
     "output_type": "stream",
     "text": [
      "aries\n",
      "cancer\n"
     ]
    }
   ],
   "source": [
    "#1.\n",
    "tupla = \"aries\",\"capricornio\",\"geminis\",\"cancer\"\n",
    "type(tupla)\n",
    "\n",
    "tupla[0]\n",
    "#2 .\n",
    "primer_elemento = tupla[0]\n",
    "print(primer_elemento)\n",
    "\n",
    "#3.-\n",
    "ultimo_elemento = tupla[-1]\n",
    "print(ultimo_elemento)\n",
    "\n"
   ]
  },
  {
   "cell_type": "markdown",
   "metadata": {},
   "source": [
    "# 4 ACCEDER A UN RANGO DE ELEMENTOS: UTILIZA EL SLICING, CREA UNA NUEVA TUPLA LLAMADA SUB_TUPLA QUE CONTENGA LOS ELEMENTOS DESDE EL SEGUNDO HASTA EL CUARTO DE MI TUPLA "
   ]
  },
  {
   "cell_type": "code",
   "execution_count": 61,
   "metadata": {},
   "outputs": [
    {
     "name": "stdout",
     "output_type": "stream",
     "text": [
      "('capricornio', 'geminis')\n"
     ]
    }
   ],
   "source": [
    "\n",
    "# 4. \n",
    "sub_dupla = tupla[1:3]\n",
    "print(sub_dupla)\n"
   ]
  },
  {
   "cell_type": "markdown",
   "metadata": {},
   "source": [
    "# concatenar dos tuplas: crear otra tupla llamada otra_tupla y concatenar  con mi_tupla para formar una nueva  tupla llamada tupla_concatenada "
   ]
  },
  {
   "cell_type": "code",
   "execution_count": 74,
   "metadata": {},
   "outputs": [
    {
     "name": "stdout",
     "output_type": "stream",
     "text": [
      "('sagitario', 'acuario', 'tauro', 'aries', 'capricornio', 'geminis', 'cancer')\n"
     ]
    }
   ],
   "source": [
    "\n",
    "otra_tupla = (\"sagitario\",\"acuario\",\"tauro\") \n",
    "tupla_concatenada = otra_tupla + tupla \n",
    "print(tupla_concatenada)\n"
   ]
  },
  {
   "cell_type": "markdown",
   "metadata": {},
   "source": [
    "# concatenamos dos tuplas "
   ]
  },
  {
   "cell_type": "code",
   "execution_count": 73,
   "metadata": {},
   "outputs": [
    {
     "name": "stdout",
     "output_type": "stream",
     "text": [
      "('sinaloa', 'sonora', 'jalisco', 'colima', 'nayarit', 'durango')\n"
     ]
    },
    {
     "data": {
      "text/plain": [
       "tuple"
      ]
     },
     "execution_count": 73,
     "metadata": {},
     "output_type": "execute_result"
    }
   ],
   "source": [
    "opcion1 = (\"sinaloa\", \"sonora\", \"jalisco\")\n",
    "opcion2 = (\"colima\",\"nayarit\", \"durango\")\n",
    "opcion_concatenada = opcion1 + opcion2 \n",
    "print(opcion_concatenada)\n",
    "\n",
    "type(opcion_concatenada)\n"
   ]
  },
  {
   "cell_type": "markdown",
   "metadata": {},
   "source": [
    "# 6- encontrar la longitud: encuentra la longitud de tupla_concatenada y guardala en una variable llamada longitud \n"
   ]
  },
  {
   "cell_type": "code",
   "execution_count": 66,
   "metadata": {},
   "outputs": [
    {
     "name": "stdout",
     "output_type": "stream",
     "text": [
      "7\n",
      "7\n"
     ]
    }
   ],
   "source": [
    "print(len(tupla_concatenada))\n",
    "\n",
    "longitud = len(tupla_concatenada)\n",
    "print( longitud)\n"
   ]
  },
  {
   "cell_type": "markdown",
   "metadata": {},
   "source": [
    "# 7.- Buscar un elemento: verifica si un elemento especifico esta presente en mi tupla .. por ejemplo : geminis"
   ]
  },
  {
   "cell_type": "code",
   "execution_count": 67,
   "metadata": {},
   "outputs": [
    {
     "name": "stdout",
     "output_type": "stream",
     "text": [
      "True\n"
     ]
    }
   ],
   "source": [
    "print(\"geminis\" in tupla)\n"
   ]
  },
  {
   "cell_type": "markdown",
   "metadata": {},
   "source": [
    "# 8- contar elmentos: cuantas veces aparece un elemento especifico en mi tupla por ejemplo cuantas veces aparece \"aries\"\n"
   ]
  },
  {
   "cell_type": "code",
   "execution_count": 68,
   "metadata": {},
   "outputs": [
    {
     "name": "stdout",
     "output_type": "stream",
     "text": [
      "1\n"
     ]
    }
   ],
   "source": [
    "print(tupla.count(\"aries\"))\n"
   ]
  },
  {
   "cell_type": "markdown",
   "metadata": {},
   "source": [
    "# 9- desempaquetar una tupla: si tienes una tupa de nombre ( nombre, apellidos) desempaquetar los valores en dos variables separadas "
   ]
  },
  {
   "cell_type": "code",
   "execution_count": null,
   "metadata": {},
   "outputs": [],
   "source": []
  },
  {
   "cell_type": "markdown",
   "metadata": {},
   "source": [
    "# 10- convertir una lista en tupla: crea una lista de numero y conviertela en una tupla llamada tupla_desde_lista "
   ]
  },
  {
   "cell_type": "code",
   "execution_count": 71,
   "metadata": {},
   "outputs": [
    {
     "name": "stdout",
     "output_type": "stream",
     "text": [
      "(18, 35, 64, 15, 3)\n"
     ]
    },
    {
     "data": {
      "text/plain": [
       "tuple"
      ]
     },
     "execution_count": 71,
     "metadata": {},
     "output_type": "execute_result"
    }
   ],
   "source": [
    " \n",
    "lista_numeros = [18, 35, 64, 15, 3]\n",
    "type(lista_numeros)\n",
    "\n",
    "tupla_desde_lista = tuple(lista_numeros)\n",
    "print(tupla_desde_lista)\n",
    "\n",
    "type(tupla_desde_lista)\n"
   ]
  },
  {
   "cell_type": "markdown",
   "metadata": {},
   "source": [
    "# DICCIONARIOS \n",
    "\n"
   ]
  },
  {
   "cell_type": "markdown",
   "metadata": {},
   "source": [
    "# 1- CREA UN DICCIONARIO: CREA UN DICCIONARIO VACIO LLAMADO MI_DICCIONARIO CON UNA KEY LLAMADA APELLIDO Y QUE SU VALUE SEA LOPEZ."
   ]
  },
  {
   "cell_type": "code",
   "execution_count": 87,
   "metadata": {},
   "outputs": [],
   "source": [
    "mi_diccionario = {\"apellido\": \"lopez\"}\n"
   ]
  },
  {
   "cell_type": "markdown",
   "metadata": {},
   "source": [
    "# 2- AGREGAR ELEMENTOS: AGREGAR UNA CLAVE- VALOR AL DICCIONARIO  POR EJEMPLO AGREGAR LA CLAVE \"NOMBRE\" CON EL VALOR \"JUAN\" \n"
   ]
  },
  {
   "cell_type": "code",
   "execution_count": 89,
   "metadata": {},
   "outputs": [
    {
     "name": "stdout",
     "output_type": "stream",
     "text": [
      "{'apellido': 'lopez', 'nombre': 'juan'}\n"
     ]
    }
   ],
   "source": [
    "nueva_key = {\"nombre\": \"juan\"}\n",
    "type(nueva_key)\n",
    "\n",
    "mi_diccionario.update(nueva_key)\n",
    "print(mi_diccionario)\n",
    "\n",
    "\n",
    "\n",
    " "
   ]
  },
  {
   "cell_type": "markdown",
   "metadata": {},
   "source": [
    "# 3- acceder a un valor : accede al valor correspondiente a la clave \"nombre\" en mi_diccionario \n"
   ]
  },
  {
   "cell_type": "code",
   "execution_count": 90,
   "metadata": {},
   "outputs": [
    {
     "name": "stdout",
     "output_type": "stream",
     "text": [
      "acede al valor nombre: juan\n"
     ]
    }
   ],
   "source": [
    "print(\"acede al valor nombre:\",mi_diccionario.setdefault(\"nombre\"))"
   ]
  },
  {
   "cell_type": "markdown",
   "metadata": {},
   "source": [
    "# 4- modificar un valor: cambia el valor de la clave \"nombre\" a \"Ana\""
   ]
  },
  {
   "cell_type": "code",
   "execution_count": 91,
   "metadata": {},
   "outputs": [
    {
     "name": "stdout",
     "output_type": "stream",
     "text": [
      "{'apellido': 'lopez', 'nombre': 'Ana'}\n"
     ]
    }
   ],
   "source": [
    "mi_diccionario[\"nombre\"] = \"Ana\"\n",
    "print(mi_diccionario)\n"
   ]
  },
  {
   "cell_type": "markdown",
   "metadata": {},
   "source": [
    "# 5- eliminar un elemento : elimina la clave \"nombre\" de mi_diccionario "
   ]
  },
  {
   "cell_type": "code",
   "execution_count": 92,
   "metadata": {},
   "outputs": [
    {
     "name": "stdout",
     "output_type": "stream",
     "text": [
      "eliminemos la clave nombre Ana\n"
     ]
    }
   ],
   "source": [
    "print(\"eliminemos la clave nombre\", mi_diccionario.pop(\"nombre\"))\n"
   ]
  },
  {
   "cell_type": "markdown",
   "metadata": {},
   "source": [
    "# 6- verificar exixstencia: verificar si la clave \"apellido\" existe en mi_diccionario. "
   ]
  },
  {
   "cell_type": "code",
   "execution_count": 93,
   "metadata": {},
   "outputs": [
    {
     "name": "stdout",
     "output_type": "stream",
     "text": [
      "esta la clave apellido en el diccionario ? True\n"
     ]
    }
   ],
   "source": [
    "print(\"esta la clave apellido en el diccionario ?\", \"apellido\" in mi_diccionario)\n"
   ]
  },
  {
   "cell_type": "markdown",
   "metadata": {},
   "source": [
    "# 7. obtener todas la claves: obten una lista de todas la claves en mi diccionario"
   ]
  },
  {
   "cell_type": "code",
   "execution_count": 94,
   "metadata": {},
   "outputs": [
    {
     "name": "stdout",
     "output_type": "stream",
     "text": [
      "las claves de mi diccionario son: dict_keys(['apellido'])\n"
     ]
    }
   ],
   "source": [
    "print(\"las claves de mi diccionario son:\", mi_diccionario.keys())\n",
    "\n",
    "# solo se encontro apellidos por que acabamos de eliminar la de nombre \n"
   ]
  },
  {
   "cell_type": "markdown",
   "metadata": {},
   "source": [
    "# 8- obtener todos los valores: obtener una lista de todos los valores en mi diccionario"
   ]
  },
  {
   "cell_type": "code",
   "execution_count": 95,
   "metadata": {},
   "outputs": [
    {
     "name": "stdout",
     "output_type": "stream",
     "text": [
      "los valores en mi diccionarios, solo es  dict_values(['lopez'])\n"
     ]
    }
   ],
   "source": [
    "print(\"los valores en mi diccionarios, solo es \", mi_diccionario.values())\n"
   ]
  },
  {
   "cell_type": "markdown",
   "metadata": {},
   "source": [
    "# 9- recorrer el diccionario: usa un bucle for para recorrer y mostra todas la claves y valores en mi diccionario "
   ]
  },
  {
   "cell_type": "code",
   "execution_count": 97,
   "metadata": {},
   "outputs": [
    {
     "name": "stdout",
     "output_type": "stream",
     "text": [
      "{'apellido': 'lopez', 'nombre': 'maria', 'edad': 27, 'nacionalidad': 'dominicada', 'ID': 3654957}\n"
     ]
    },
    {
     "data": {
      "text/plain": [
       "[('apellido', 'lopez'),\n",
       " ('nombre', 'maria'),\n",
       " ('edad', 27),\n",
       " ('nacionalidad', 'dominicada'),\n",
       " ('ID', 3654957)]"
      ]
     },
     "execution_count": 97,
     "metadata": {},
     "output_type": "execute_result"
    }
   ],
   "source": [
    "# primero voy actualizar el diccionario para que tengo mas claves y valores para poder hacer ele ejerccio 9 \n",
    "\n",
    "\n",
    "nuevas_claves = {\"nombre\": \"maria\", \"edad\" : 27, \"nacionalidad\": \"dominicada\", \"ID\": 3654957}\n",
    "mi_diccionario.update(nuevas_claves)\n",
    "print(mi_diccionario)\n",
    "\n",
    "list(mi_diccionario.items())\n"
   ]
  },
  {
   "cell_type": "markdown",
   "metadata": {},
   "source": [
    "# 10- longitud del diccionario: calcula la cantidad de elementos de mi diccionario "
   ]
  },
  {
   "cell_type": "code",
   "execution_count": 98,
   "metadata": {},
   "outputs": [
    {
     "name": "stdout",
     "output_type": "stream",
     "text": [
      "5\n"
     ]
    }
   ],
   "source": [
    "print(len(mi_diccionario))"
   ]
  },
  {
   "cell_type": "markdown",
   "metadata": {},
   "source": [
    "# 11- copiar un diccionario: crea  una copio del diccionario "
   ]
  },
  {
   "cell_type": "code",
   "execution_count": 99,
   "metadata": {},
   "outputs": [
    {
     "name": "stdout",
     "output_type": "stream",
     "text": [
      "{'apellido': 'lopez', 'nombre': 'maria', 'edad': 27, 'nacionalidad': 'dominicada', 'ID': 3654957}\n"
     ]
    }
   ],
   "source": [
    "copia_midiccionario = mi_diccionario.copy()\n",
    "print(copia_midiccionario)\n"
   ]
  },
  {
   "cell_type": "markdown",
   "metadata": {},
   "source": [
    "# 12- eliminar elementos: elimina todos los elementos de la copia del diccionario "
   ]
  },
  {
   "cell_type": "code",
   "execution_count": 101,
   "metadata": {},
   "outputs": [
    {
     "name": "stdout",
     "output_type": "stream",
     "text": [
      "{'apellido': 'lopez', 'nombre': 'maria', 'edad': 27, 'nacionalidad': 'dominicada', 'ID': 3654957}\n",
      "la copia del diccionario despues de vaciarlo es: {}\n"
     ]
    }
   ],
   "source": [
    "print(copia_midiccionario)\n",
    "copia_midiccionario.clear()\n",
    "print(\"la copia del diccionario despues de vaciarlo es:\", copia_midiccionario)\n"
   ]
  },
  {
   "cell_type": "markdown",
   "metadata": {},
   "source": [
    "# 13- combinar diccionarios: crea otro diccionario llamado diccionario_combinado y combina mi_diccionario y copia de diccionario en el. "
   ]
  },
  {
   "cell_type": "code",
   "execution_count": 105,
   "metadata": {},
   "outputs": [
    {
     "name": "stdout",
     "output_type": "stream",
     "text": [
      "{'apellido': 'lopez', 'nombre': 'maria', 'edad': 27, 'nacionalidad': 'dominicada', 'ID': 3654957}\n",
      "{'mi_diccionario': {'apellido': 'lopez', 'nombre': 'maria', 'edad': 27, 'nacionalidad': 'dominicada', 'ID': 3654957}, 'copia_mi_dic': {'apellido': 'lopez', 'nombre': 'maria', 'edad': 27, 'nacionalidad': 'dominicada', 'ID': 3654957}}\n"
     ]
    }
   ],
   "source": [
    "copia_mi_dic = mi_diccionario.copy()\n",
    "print(copia_mi_dic)\n",
    "\n",
    "# aqui anidamos los diciconarios para agregarlo uno al otro y poder juntar los dos diccionarios que teniamos \n",
    "\n",
    "diccionario_combinado = {\"mi_diccionario\" : mi_diccionario, \"copia_mi_dic\" : copia_mi_dic}\n",
    "print(diccionario_combinado)\n",
    "\n"
   ]
  },
  {
   "cell_type": "markdown",
   "metadata": {},
   "source": [
    "# 14. obtener valor predeterminado: intenta acceder a la clave \"edad\" en mi diccionario, si no existe, muestra valor predeterminado· desconocida\""
   ]
  },
  {
   "cell_type": "code",
   "execution_count": 106,
   "metadata": {},
   "outputs": [
    {
     "name": "stdout",
     "output_type": "stream",
     "text": [
      "los valores de la clave edad son: 27\n"
     ]
    }
   ],
   "source": [
    "print(\"los valores de la clave edad son:\", mi_diccionario.get(\"edad\"))\n"
   ]
  },
  {
   "cell_type": "markdown",
   "metadata": {},
   "source": [
    "# 15- clave maxima: encuentra la clave con el valor maximo en un diccionario que cntenga pares clave-valor numericos "
   ]
  },
  {
   "cell_type": "code",
   "execution_count": 111,
   "metadata": {},
   "outputs": [
    {
     "name": "stdout",
     "output_type": "stream",
     "text": [
      "claves de calificaciones son: dict_keys(['a', 'b', 'c', 'd', 'e', 'f'])\n"
     ]
    }
   ],
   "source": [
    "calificaciones = {\"a\": 10, \"b\": 9, \"c\": 8, \"d\": 7, \"e\": 6, \"f\": 5}\n",
    "\n",
    "print(\"claves de calificaciones son:\",calificaciones.keys())\n",
    "\n",
    "# nose como hacer esto problema"
   ]
  },
  {
   "cell_type": "markdown",
   "metadata": {},
   "source": [
    "# SETS\n"
   ]
  },
  {
   "cell_type": "markdown",
   "metadata": {},
   "source": [
    "# 1- crea un conjunto vacio : crea un conjutno llamado mi_set que este vacio"
   ]
  },
  {
   "cell_type": "code",
   "execution_count": 112,
   "metadata": {},
   "outputs": [],
   "source": [
    "mi_set = set()\n"
   ]
  },
  {
   "cell_type": "markdown",
   "metadata": {},
   "source": [
    "# 2- agrega elemento a un conjutno: agrega los numero 1,2 y 3 al conjutno"
   ]
  },
  {
   "cell_type": "code",
   "execution_count": 116,
   "metadata": {},
   "outputs": [
    {
     "name": "stdout",
     "output_type": "stream",
     "text": [
      "{1, 2, 3}\n"
     ]
    }
   ],
   "source": [
    "numeros= {1, 2, 3}\n",
    "type(numeros)\n",
    "\n",
    "mi_set.update(numeros)\n",
    "print(mi_set)\n"
   ]
  },
  {
   "cell_type": "markdown",
   "metadata": {},
   "source": [
    "# 3- eliminar elementos de un conjunto: elimina el numero 2 del conjunto mi_set\n"
   ]
  },
  {
   "cell_type": "code",
   "execution_count": 117,
   "metadata": {},
   "outputs": [
    {
     "name": "stdout",
     "output_type": "stream",
     "text": [
      "{1, 3}\n"
     ]
    }
   ],
   "source": [
    "mi_set.remove(2)\n",
    "print(mi_set)\n"
   ]
  },
  {
   "cell_type": "markdown",
   "metadata": {},
   "source": [
    "# 4- verificar pertenencia: comprueba si el numero 3 esta en mi_set y almacena el resultado en una variable llamada \"existe\""
   ]
  },
  {
   "cell_type": "code",
   "execution_count": 120,
   "metadata": {},
   "outputs": [
    {
     "name": "stdout",
     "output_type": "stream",
     "text": [
      "esta el numero 3 en mi set: ? True\n"
     ]
    }
   ],
   "source": [
    "print(\"esta el numero 3 en mi set: ?\", 3 in mi_set)\n"
   ]
  },
  {
   "cell_type": "markdown",
   "metadata": {},
   "source": [
    "# 5- operaciones de conjuntos: crea dos conjutnos set1 y set2 con numeros y encuentra la interseccion de ambos conjuntos"
   ]
  },
  {
   "cell_type": "code",
   "execution_count": 121,
   "metadata": {},
   "outputs": [
    {
     "name": "stdout",
     "output_type": "stream",
     "text": [
      "{32, 42}\n"
     ]
    }
   ],
   "source": [
    "set1= {12, 22, 32, 42, 52}\n",
    "set2= {32, 87, 42, 11, 18, 65}\n",
    "\n",
    "interseccion_sets = set1.intersection(set2)\n",
    "print(interseccion_sets)\n"
   ]
  },
  {
   "cell_type": "markdown",
   "metadata": {},
   "source": [
    "# 6- unio de conjuntos: combina set1 y set2 para formar un nuevo vonjutno que contenga todos los elementos de ambos "
   ]
  },
  {
   "cell_type": "code",
   "execution_count": 123,
   "metadata": {},
   "outputs": [
    {
     "name": "stdout",
     "output_type": "stream",
     "text": [
      "{32, 65, 42, 11, 12, 18, 52, 22, 87}\n"
     ]
    }
   ],
   "source": [
    "set1= {12, 22, 32, 42, 52}\n",
    "set2= {32, 87, 42, 11, 18, 65}\n",
    "\n",
    "union_sets = set1.union(set2)\n",
    "print(union_sets)\n"
   ]
  },
  {
   "cell_type": "markdown",
   "metadata": {},
   "source": [
    "# 7- diferencia de conjuntos: encuentra los elementos que estan en set1 pero no en set 2 "
   ]
  },
  {
   "cell_type": "code",
   "execution_count": 124,
   "metadata": {},
   "outputs": [
    {
     "name": "stdout",
     "output_type": "stream",
     "text": [
      "{52, 12, 22}\n"
     ]
    }
   ],
   "source": [
    "diferencia_set = set1.difference(set2)\n",
    "print(diferencia_set)\n"
   ]
  },
  {
   "cell_type": "markdown",
   "metadata": {},
   "source": [
    "# 8- comparacion de conjuntos: comprueba si set1 es un subconjuntos de set2 y almacena el resultado en una variable llamda se_subconjunto "
   ]
  },
  {
   "cell_type": "code",
   "execution_count": 125,
   "metadata": {},
   "outputs": [
    {
     "name": "stdout",
     "output_type": "stream",
     "text": [
      "es el set1 un subconjutno de set2 False\n"
     ]
    }
   ],
   "source": [
    "es_subconjunto = set1.issubset(set2)\n",
    "print(\"es el set1 un subconjutno de set2\", es_subconjunto)"
   ]
  },
  {
   "cell_type": "markdown",
   "metadata": {},
   "source": [
    "# 9- eliminar elementos duplicados: "
   ]
  },
  {
   "cell_type": "code",
   "execution_count": null,
   "metadata": {},
   "outputs": [],
   "source": []
  },
  {
   "cell_type": "markdown",
   "metadata": {},
   "source": [
    "# 10- comprobar igualdad de conjutnos: comparar si set1 y set2 son iguales y almacena el resultado en un variable llamada son_iguales "
   ]
  },
  {
   "cell_type": "code",
   "execution_count": null,
   "metadata": {},
   "outputs": [],
   "source": []
  },
  {
   "cell_type": "markdown",
   "metadata": {},
   "source": []
  },
  {
   "cell_type": "markdown",
   "metadata": {},
   "source": [
    "# sentencias de control\n",
    "\n"
   ]
  },
  {
   "cell_type": "markdown",
   "metadata": {},
   "source": [
    "# 1- clasificacion de triangulos: pide al usuario que ingrese las longuitudes de tres lados de un triangulo. Determina si el triangulo es equilatero( todos los lados son iguales), isosceles (dos lados iguales), o escaleno (ningun lado igual)"
   ]
  },
  {
   "cell_type": "code",
   "execution_count": 138,
   "metadata": {},
   "outputs": [
    {
     "name": "stdout",
     "output_type": "stream",
     "text": [
      "el triangulo es escaleno\n"
     ]
    }
   ],
   "source": [
    "\n",
    "\n",
    "lado1= int(input(\"ingresa la longuitud del primer lado, de un triangulo\"))\n",
    "lado2= int(input(\"segundo lado\"))\n",
    "lado3= int(input(\"ahora el tercero\"))\n",
    "\n",
    "if (lado1 == lado2 and lado2 == lado3):\n",
    "    print(\"el triangulo es equilatero\")\n",
    "\n",
    "elif (lado1 == lado2 and lado2 != lado3):\n",
    "    print(\"el triangulo es isosceles\")\n",
    "\n",
    "else:\n",
    "    print(\"el triangulo es escaleno\")\n",
    "\n"
   ]
  },
  {
   "cell_type": "markdown",
   "metadata": {},
   "source": [
    "# 2-conversion de temperatura: crea un programa que permita al usuario convertir temperaturas entre celsius y fahrenhet. pide al usuario que ingrese la temperatura y la unidad (C o F)y realiza la conversion. "
   ]
  },
  {
   "cell_type": "code",
   "execution_count": 143,
   "metadata": {},
   "outputs": [
    {
     "name": "stdout",
     "output_type": "stream",
     "text": [
      "la temperaura en grados fahrenheit es 57.2\n"
     ]
    }
   ],
   "source": [
    "temperatura = int(input(\"ingrese la temperatura en grados celsius, para convertir en fahrenheit\"))\n",
    "\n",
    "\n",
    "grados_faren = (temperatura * 9/5) + 32 \n",
    "print(\"la temperaura en grados fahrenheit es\", grados_faren)\n",
    "\n"
   ]
  },
  {
   "cell_type": "markdown",
   "metadata": {},
   "source": [
    "# 3- cajero automatico: simula un cajero automatico que permite a los usuarios verificar su saldo, depsitar y retirar dinero. el prorama debe manteener un registro del saldo actual "
   ]
  },
  {
   "cell_type": "code",
   "execution_count": null,
   "metadata": {},
   "outputs": [],
   "source": [
    "saldo = 200\n",
    "while saldo = 200:\n",
    "    print(f\"el saldo en tu cuanta de banco es:\")"
   ]
  },
  {
   "cell_type": "markdown",
   "metadata": {},
   "source": [
    "# 4- calculadora de descuento: pide al usuario que ingrese el precio original  de un producto y el porcentaje de descuento. calcula el precio final despues del descuento y muestra ahorro"
   ]
  },
  {
   "cell_type": "code",
   "execution_count": 153,
   "metadata": {},
   "outputs": [
    {
     "name": "stdout",
     "output_type": "stream",
     "text": [
      "tu precio a pagar despues del descuento es : 18.0\n"
     ]
    }
   ],
   "source": [
    "precio_original= float(input(\"ingreso el precio de tu producto\"))\n",
    "\n",
    "descuento = float(input(\"ingresa el descuento a aplicar \"))\n",
    "\n",
    "desc_aplicar = (precio_original *(descuento/100))\n",
    "\n",
    "precio_final = precio_original - desc_aplicar\n",
    "print(\"tu precio a pagar despues del descuento es :\", precio_final)\n",
    "\n"
   ]
  },
  {
   "cell_type": "markdown",
   "metadata": {},
   "source": [
    "# 5 - calculo de promedio de calificaciones: pide al usuario que ingrese una seria de calififaciones y calcule el promedio. tambien muestra si el estudiante aprobo (promedio mayor o igual a 5)o no"
   ]
  },
  {
   "cell_type": "code",
   "execution_count": 165,
   "metadata": {},
   "outputs": [
    {
     "name": "stdout",
     "output_type": "stream",
     "text": [
      "['9', ' 9', ' 6', ' 8']\n",
      "[9, 9, 6, 8]\n"
     ]
    }
   ],
   "source": [
    "calif_alum = input(\"da las ultimas cuatro notas de ingles\")\n",
    "lista_calificaciones =calif_alum.split(\",\")\n",
    "print(lista_calificaciones)\n",
    "\n",
    "lista_calificaciones =[int(lista_calificaciones[0]),int(lista_calificaciones[1]),int(lista_calificaciones[2]),int(lista_calificaciones[3])]\n",
    "print(lista_calificaciones)\n",
    "\n",
    "\n"
   ]
  },
  {
   "cell_type": "markdown",
   "metadata": {},
   "source": [
    "# promedio"
   ]
  },
  {
   "cell_type": "code",
   "execution_count": 167,
   "metadata": {},
   "outputs": [
    {
     "name": "stdout",
     "output_type": "stream",
     "text": [
      "8.0\n",
      "aprobado\n"
     ]
    }
   ],
   "source": [
    "len(lista_calificaciones)\n",
    "promedio_cali = sum(lista_calificaciones)/len(lista_calificaciones)\n",
    "print(promedio_cali)\n",
    "\n",
    "if promedio_cali >= 5:\n",
    "    print(\"aprobado\")"
   ]
  },
  {
   "cell_type": "markdown",
   "metadata": {},
   "source": [
    "# 6- GENERADOR DE CONTRASEÑAS SEGURAS: crea un programa que genera una contraseña segura. el usuario debe especificar la longitud deseada y si desea incluir numeros, letrasmayusculas, minusculas y caracteres especiales."
   ]
  },
  {
   "cell_type": "code",
   "execution_count": 170,
   "metadata": {},
   "outputs": [
    {
     "name": "stdout",
     "output_type": "stream",
     "text": [
      "\n",
      "5\n"
     ]
    },
    {
     "ename": "ValueError",
     "evalue": "invalid literal for int() with base 10: 'si'",
     "output_type": "error",
     "traceback": [
      "\u001b[0;31m---------------------------------------------------------------------------\u001b[0m",
      "\u001b[0;31mValueError\u001b[0m                                Traceback (most recent call last)",
      "\u001b[0;32m/tmp/ipykernel_111833/4291401312.py\u001b[0m in \u001b[0;36m<module>\u001b[0;34m\u001b[0m\n\u001b[1;32m      4\u001b[0m \u001b[0;34m\u001b[0m\u001b[0m\n\u001b[1;32m      5\u001b[0m \u001b[0mnum_dig\u001b[0m \u001b[0;34m=\u001b[0m  \u001b[0mprint\u001b[0m\u001b[0;34m(\u001b[0m\u001b[0mint\u001b[0m\u001b[0;34m(\u001b[0m\u001b[0minput\u001b[0m\u001b[0;34m(\u001b[0m\u001b[0;34m\"cuantos digitos quiers que tenga tu contraseña\"\u001b[0m\u001b[0;34m)\u001b[0m\u001b[0;34m)\u001b[0m\u001b[0;34m)\u001b[0m\u001b[0;34m\u001b[0m\u001b[0;34m\u001b[0m\u001b[0m\n\u001b[0;32m----> 6\u001b[0;31m \u001b[0mnumer_contra\u001b[0m \u001b[0;34m=\u001b[0m \u001b[0mprint\u001b[0m\u001b[0;34m(\u001b[0m\u001b[0mint\u001b[0m\u001b[0;34m(\u001b[0m\u001b[0minput\u001b[0m\u001b[0;34m(\u001b[0m\u001b[0;34m\"quieres incluir numeros?\"\u001b[0m\u001b[0;34m)\u001b[0m\u001b[0;34m)\u001b[0m\u001b[0;34m)\u001b[0m\u001b[0;34m\u001b[0m\u001b[0;34m\u001b[0m\u001b[0m\n\u001b[0m\u001b[1;32m      7\u001b[0m \u001b[0mletras\u001b[0m \u001b[0;34m=\u001b[0m \u001b[0mprint\u001b[0m\u001b[0;34m(\u001b[0m\u001b[0minput\u001b[0m\u001b[0;34m(\u001b[0m\u001b[0;34m\"quieres que tenga mayusculas\"\u001b[0m\u001b[0;34m)\u001b[0m\u001b[0;34m)\u001b[0m\u001b[0;34m\u001b[0m\u001b[0;34m\u001b[0m\u001b[0m\n\u001b[1;32m      8\u001b[0m \u001b[0;34m\u001b[0m\u001b[0m\n",
      "\u001b[0;31mValueError\u001b[0m: invalid literal for int() with base 10: 'si'"
     ]
    }
   ],
   "source": [
    "import random\n",
    "\n",
    "print(input(\"para generar una contraseña segura\"))\n",
    "\n",
    "num_dig =  print(int(input(\"cuantos digitos quiers que tenga tu contraseña\")))\n",
    "numer_contra = print(input(\"quieres incluir numeros?\"))\n",
    "letras = print(input(\"quieres que tenga letras mayusculas\"))\n",
    "\n",
    "\n"
   ]
  },
  {
   "cell_type": "markdown",
   "metadata": {},
   "source": [
    "# 7- calculadora de edad de perros: pide al usuario que ingrese la edad de su perro en años y calcula su edad equivalente en años humanos. la formula comunmente utilizada es diferente para los primeros dos años y luego para el resto. "
   ]
  },
  {
   "cell_type": "code",
   "execution_count": 179,
   "metadata": {},
   "outputs": [
    {
     "name": "stdout",
     "output_type": "stream",
     "text": [
      "la edad de tu perro en años humanos es 28\n"
     ]
    }
   ],
   "source": [
    "años_perro = int(input(\"cuantos años tiene tu perro\"))\n",
    "\n",
    "\n",
    "\n",
    "if años_perro <= 1:\n",
    "    print(\"la edad de tu perro en años humanos seria aprox\",años_perro * 15)\n",
    "\n",
    "if años_perro == 2: \n",
    "    print(\"la edad de tu perro en años humanos seria\",(años_perro + 15) + 6)\n",
    "\n",
    "else: \n",
    "    print(\"la edad de tu perro en años humanos es\", (años_perro + 21) + 4)\n",
    "          \n"
   ]
  }
 ],
 "metadata": {
  "kernelspec": {
   "display_name": "base",
   "language": "python",
   "name": "python3"
  },
  "language_info": {
   "codemirror_mode": {
    "name": "ipython",
    "version": 3
   },
   "file_extension": ".py",
   "mimetype": "text/x-python",
   "name": "python",
   "nbconvert_exporter": "python",
   "pygments_lexer": "ipython3",
   "version": "3.9.7"
  }
 },
 "nbformat": 4,
 "nbformat_minor": 2
}
